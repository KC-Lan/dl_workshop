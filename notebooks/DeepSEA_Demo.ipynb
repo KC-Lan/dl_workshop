{
 "cells": [
  {
   "cell_type": "markdown",
   "metadata": {
    "id": "LrbObZfR6ays"
   },
   "source": [
    "# DeepSEA Demo\n",
    "This notebook demonstrates the use of convolutional neural networks for adressing genomic problems.\n",
    "It also shows how Kipoi can be used to get trained models for problems instead of having to train\n",
    "your own.\n",
    "\n",
    "Our example method for this demonstration will be [DeepSEA](https://www.nature.com/articles/nmeth.3547), which predicts the effects of noncoding genomic variants on epigenetic features.\n",
    "\n",
    "## Running Locally\n",
    "\n",
    "If you're running this notebook locally, you'll need to install the dependencies first. If you use [Conda](https://docs.conda.io/en/latest/miniconda.html) for your package manager, you can use the command `conda env create -f environment.yml` to install everything you need. The conda environment can then be made into a jupyter kernel with the command `python -m ipykernel install --user --name workshop`"
   ]
  },
  {
   "cell_type": "code",
   "execution_count": 1,
   "metadata": {
    "id": "iEK4g5ip6N62"
   },
   "outputs": [],
   "source": [
    "# Import the necessary libraries\n",
    "import kipoi\n",
    "import torch"
   ]
  },
  {
   "cell_type": "markdown",
   "metadata": {},
   "source": [
    "## Download the model and example data from Kipoi\n",
    "\n",
    "I didn't know the code below off the top of my head.\n",
    "Each Kipoi model page has descriptions of how to use the model.\n",
    "\n",
    "<img src=\"kipoi_screenshot.png\">"
   ]
  },
  {
   "cell_type": "code",
   "execution_count": 2,
   "metadata": {
    "id": "rvfsQjFkWEkR"
   },
   "outputs": [
    {
     "name": "stdout",
     "output_type": "stream",
     "text": [
      "Using downloaded and verified file: /home/heil/.kipoi/models/DeepSEA/predict/downloaded/model_files/weights/89e640bf6bdbe1ff165f484d9796efc7\n"
     ]
    }
   ],
   "source": [
    "# Download trained model from Kipoi\n",
    "model = kipoi.get_model('DeepSEA/predict')"
   ]
  },
  {
   "cell_type": "code",
   "execution_count": 3,
   "metadata": {
    "id": "rvfsQjFkWEkR"
   },
   "outputs": [],
   "source": [
    "# Download example dataloader kwargs\n",
    "dl_kwargs = model.default_dataloader.download_example('example')\n",
    "# Get the dataloader and instantiate it\n",
    "dl = model.default_dataloader(**dl_kwargs)\n",
    "# get a batch iterator\n",
    "it = dl.batch_iter(batch_size=10)\n",
    "# predict for a batch\n",
    "batch = next(it)"
   ]
  },
  {
   "cell_type": "markdown",
   "metadata": {},
   "source": [
    "## Data Tour\n",
    "Always start by looking at your data"
   ]
  },
  {
   "cell_type": "code",
   "execution_count": 4,
   "metadata": {
    "id": "cdpyFKLFWHmy"
   },
   "outputs": [
    {
     "name": "stdout",
     "output_type": "stream",
     "text": [
      "{'inputs': array([[[[1., 0., 0., ..., 0., 0., 0.]],\n",
      "\n",
      "        [[0., 0., 0., ..., 1., 1., 0.]],\n",
      "\n",
      "        [[0., 1., 0., ..., 0., 0., 0.]],\n",
      "\n",
      "        [[0., 0., 1., ..., 0., 0., 1.]]],\n",
      "\n",
      "\n",
      "       [[[0., 0., 1., ..., 0., 1., 0.]],\n",
      "\n",
      "        [[0., 0., 0., ..., 0., 0., 1.]],\n",
      "\n",
      "        [[1., 1., 0., ..., 0., 0., 0.]],\n",
      "\n",
      "        [[0., 0., 0., ..., 1., 0., 0.]]],\n",
      "\n",
      "\n",
      "       [[[0., 0., 0., ..., 0., 1., 0.]],\n",
      "\n",
      "        [[0., 0., 1., ..., 0., 0., 1.]],\n",
      "\n",
      "        [[1., 0., 0., ..., 1., 0., 0.]],\n",
      "\n",
      "        [[0., 1., 0., ..., 0., 0., 0.]]],\n",
      "\n",
      "\n",
      "       ...,\n",
      "\n",
      "\n",
      "       [[[1., 1., 1., ..., 1., 0., 0.]],\n",
      "\n",
      "        [[0., 0., 0., ..., 0., 0., 0.]],\n",
      "\n",
      "        [[0., 0., 0., ..., 0., 0., 0.]],\n",
      "\n",
      "        [[0., 0., 0., ..., 0., 1., 1.]]],\n",
      "\n",
      "\n",
      "       [[[0., 1., 1., ..., 1., 1., 1.]],\n",
      "\n",
      "        [[0., 0., 0., ..., 0., 0., 0.]],\n",
      "\n",
      "        [[0., 0., 0., ..., 0., 0., 0.]],\n",
      "\n",
      "        [[1., 0., 0., ..., 0., 0., 0.]]],\n",
      "\n",
      "\n",
      "       [[[1., 1., 1., ..., 1., 1., 0.]],\n",
      "\n",
      "        [[0., 0., 0., ..., 0., 0., 1.]],\n",
      "\n",
      "        [[0., 0., 0., ..., 0., 0., 0.]],\n",
      "\n",
      "        [[0., 0., 0., ..., 0., 0., 0.]]]], dtype=float32), 'targets': {}, 'metadata': {'ranges': {'chr': array(['chr22', 'chr22', 'chr22', 'chr22', 'chr22', 'chr22', 'chr22',\n",
      "       'chr22', 'chr22', 'chr22'], dtype='<U5'), 'start': array([135543, 135876, 137274, 134028, 138535, 138682, 134163, 138433,\n",
      "       138974, 138975]), 'end': array([136543, 136876, 138274, 135028, 139535, 139682, 135163, 139433,\n",
      "       139974, 139975]), 'id': array(['0', '1', '2', '3', '4', '5', '6', '7', '8', '9'], dtype='<U1'), 'strand': array(['*', '*', '*', '*', '*', '*', '*', '*', '*', '*'], dtype='<U1')}}}\n"
     ]
    }
   ],
   "source": [
    "print(batch)"
   ]
  },
  {
   "cell_type": "code",
   "execution_count": 5,
   "metadata": {
    "id": "oGQY2NDcWSpF"
   },
   "outputs": [
    {
     "name": "stdout",
     "output_type": "stream",
     "text": [
      "(10, 4, 1, 1000)\n"
     ]
    }
   ],
   "source": [
    "print(batch['inputs'].shape)"
   ]
  },
  {
   "cell_type": "code",
   "execution_count": 6,
   "metadata": {},
   "outputs": [
    {
     "name": "stdout",
     "output_type": "stream",
     "text": [
      "(4, 1000)\n"
     ]
    }
   ],
   "source": [
    "# Convert one-hot encoding to DNA\n",
    "example_sequence_one_hot = batch['inputs'][0,:,:,:].squeeze()\n",
    "print(example_sequence_one_hot.shape)"
   ]
  },
  {
   "cell_type": "code",
   "execution_count": 7,
   "metadata": {},
   "outputs": [
    {
     "name": "stdout",
     "output_type": "stream",
     "text": [
      "[0 2 3 1 3 2 1 0 1 0 2 0 0 1 0 3 3 3 3 2 0 2 0 3 3 3 2 3 3 3 3 1 3 1 0 2 3\n",
      " 0 2 3 3 1 1 3 3 0 1 0 0 3 3 1 1 1 0 3 0 3 3 2 3 0 2 2 3 0 0 3 2 0 1 0 2 3\n",
      " 3 3 3 0 0 3 2 1 1 0 1 3 2 0 0 0 3 0 0 0 0 0 1 0 3 0 0 0 2 3 2 0 1 3 2 1 1\n",
      " 3 0 0 2 0 2 3 1 0 1 0 3 2 2 3 3 3 0 3 2 2 1 0 2 0 0 1 3 0 2 2 0 1 3 1 0 0\n",
      " 2 1 1 1 0 2 3 3 1 3 3 1 3 2 0 0 0 3 1 1 0 0 0 3 1 1 0 2 2 1 1 0 1 3 3 3 1\n",
      " 0 1 1 1 0 3 2 1 1 1 3 1 2 3 2 2 3 2 1 1 1 0 2 1 1 1 3 2 3 2 1 1 3 1 0 3 0\n",
      " 0 1 1 1 2 2 2 3 2 1 3 2 0 2 2 3 2 2 0 2 1 0 2 1 3 1 1 1 0 3 1 1 0 2 2 3 1\n",
      " 1 1 0 0 2 0 3 0 2 2 1 3 1 1 1 0 1 3 2 1 3 1 1 0 2 0 1 2 3 1 1 1 1 0 3 2 2\n",
      " 0 3 3 2 1 1 1 1 1 0 2 1 0 0 0 2 2 0 1 1 3 1 1 3 2 1 1 0 2 1 0 2 1 3 1 1 2\n",
      " 2 2 0 0 2 2 0 2 1 3 1 3 2 1 0 2 0 2 0 2 1 1 1 3 3 3 2 2 0 0 2 1 1 0 2 0 2\n",
      " 1 0 2 0 0 0 2 2 2 0 2 1 0 2 2 1 0 1 1 3 2 1 3 2 2 0 1 0 0 1 3 2 2 2 1 1 3\n",
      " 1 1 0 3 1 1 0 0 2 3 1 0 2 0 3 3 1 1 3 3 1 1 0 2 2 0 1 0 0 0 2 1 3 2 1 3 1\n",
      " 3 1 1 3 3 1 0 1 1 1 0 2 0 0 1 0 1 1 0 1 3 2 3 1 0 1 1 3 1 1 3 1 0 1 0 2 0\n",
      " 2 2 0 2 0 0 0 1 0 3 1 3 3 3 2 3 3 1 3 3 1 1 0 3 1 3 1 0 0 0 0 2 0 2 1 3 2\n",
      " 2 1 3 3 3 2 1 3 2 0 3 0 3 2 0 1 0 2 2 1 1 1 1 0 0 0 2 0 2 1 0 0 2 3 1 0 2\n",
      " 1 1 3 1 0 3 1 0 2 1 0 2 3 3 3 3 3 1 1 3 1 1 3 1 1 1 3 1 1 3 1 1 2 1 0 3 3\n",
      " 1 3 3 1 1 3 2 2 3 2 1 2 3 1 0 3 1 3 3 1 1 0 0 2 2 3 2 0 1 0 1 0 3 0 1 0 3\n",
      " 3 2 3 2 2 1 3 3 3 2 2 1 0 2 2 0 1 3 1 1 3 2 1 1 3 2 3 3 2 2 2 0 1 3 1 0 2\n",
      " 2 0 0 2 3 3 1 0 1 3 3 3 2 3 1 1 3 1 1 3 0 0 2 3 1 3 1 3 0 3 2 3 3 2 0 1 0\n",
      " 1 2 1 1 1 3 3 2 1 1 3 2 3 0 0 0 1 0 1 0 0 2 0 0 3 3 2 0 2 0 2 2 2 2 0 3 0\n",
      " 3 2 0 3 2 0 3 3 1 1 0 2 0 2 0 3 0 2 2 0 0 0 3 3 2 0 3 1 3 1 3 0 0 1 1 0 0\n",
      " 0 3 3 3 1 0 1 0 3 1 3 3 0 0 2 0 0 2 2 1 1 3 2 3 2 0 1 3 1 3 2 2 2 0 1 1 0\n",
      " 1 2 2 2 3 0 1 1 0 3 2 3 3 2 0 2 0 0 2 2 2 3 3 1 1 0 1 1 1 0 2 3 2 2 3 1 0\n",
      " 3 2 0 2 1 0 1 0 2 0 1 1 3 3 2 3 3 1 3 1 0 2 0 1 1 3 2 0 3 3 1 1 3 1 1 0 2\n",
      " 2 1 0 2 2 3 3 0 3 3 3 2 0 1 0 3 3 3 0 3 2 0 0 1 1 3 1 0 2 3 2 3 3 1 3 1 3\n",
      " 2 0 0 0 3 2 2 2 2 0 3 1 0 3 1 1 1 1 3 2 0 1 3 3 1 3 2 0 2 2 2 1 0 2 3 3 0\n",
      " 0 0 3 2 0 2 0 3 1 0 0 2 1 0 3 2 3 0 0 0 2 1 3 1 3 3 0 2 1 0 1 1 0 0 2 1 1\n",
      " 3]\n"
     ]
    }
   ],
   "source": [
    "# Convert one-hot into integer labels\n",
    "example_sequence_indices = example_sequence_one_hot.argmax(axis=0)\n",
    "print(example_sequence_indices)"
   ]
  },
  {
   "cell_type": "code",
   "execution_count": 8,
   "metadata": {},
   "outputs": [
    {
     "name": "stdout",
     "output_type": "stream",
     "text": [
      "AGTCTGCACAGAACATTTTGAGATTTGTTTTCTCAGTAGTTCCTTACAATTCCCATATTGTAGGTAATGACAGTTTTAATGCCACTGAAATAAAAACATAAAGTGACTGCCTAAGAGTCACATGGTTTATGGCAGAACTAGGACTCAAGCCCAGTTCTTCTGAAATCCAAATCCAGGCCACTTTCACCCATGCCCTCGTGGTGCCCAGCCCTGTGCCTCATAACCCGGGTGCTGAGGTGGAGCAGCTCCCATCCAGGTCCCAAGATAGGCTCCCACTGCTCCAGACGTCCCCATGGATTGCCCCCAGCAAAGGACCTCCTGCCAGCAGCTCCGGGAAGGAGCTCTGCAGAGAGCCCTTTGGAAGCCAGAGCAGAAAGGGAGCAGGCACCTGCTGGACAACTGGGCCTCCATCCAAGTCAGATTCCTTCCAGGACAAAGCTGCTCTCCTTCACCCAGAACACCACTGTCACCTCCTCACAGAGGAGAAACATCTTTGTTCTTCCATCTCAAAAGAGCTGGCTTTGCTGATATGACAGGCCCCAAAGAGCAAGTCAGCCTCATCAGCAGTTTTTCCTCCTCCCTCCTCCGCATTCTTCCTGGTGCGTCATCTTCCAAGGTGACACATACATTGTGGCTTTGGCAGGACTCCTGCCTGTTGGGACTCAGGAAGTTCACTTTGTCCTCCTAAGTCTCTATGTTGACACGCCCTTGCCTGTAAACACAAGAATTGAGAGGGGATATGATGATTCCAGAGATAGGAAATTGATCTCTAACCAAATTTCACATCTTAAGAAGGCCTGTGACTCTGGGACCACGGGTACCATGTTGAGAAGGGTTCCACCCAGTGGTCATGAGCACAGACCTTGTTCTCAGACCTGATTCCTCCAGGCAGGTTATTTGACATTTATGAACCTCAGTGTTCTCTGAAATGGGGATCATCCCCTGACTTCTGAGGGCAGTTAAATGAGATCAAGCATGTAAAGCTCTTAGCACCAAGCCT\n"
     ]
    }
   ],
   "source": [
    "# Kipoi models usually use ACGT, but that's not necessarily the case so be careful \n",
    "decoder = {0: 'A',\n",
    "           1: 'C',\n",
    "           2: 'G',\n",
    "           3: 'T'\n",
    "          }\n",
    "\n",
    "# Decode the DNA sequence\n",
    "decoded = []\n",
    "for index in example_sequence_indices:\n",
    "    decoded.append(decoder[index])\n",
    "    \n",
    "print(''.join(decoded))"
   ]
  },
  {
   "cell_type": "markdown",
   "metadata": {},
   "source": [
    "### What should the outputs look like?"
   ]
  },
  {
   "cell_type": "code",
   "execution_count": 9,
   "metadata": {},
   "outputs": [
    {
     "name": "stdout",
     "output_type": "stream",
     "text": [
      "919\n",
      "['8988T|DNase|None', 'AoSMC|DNase|None', 'Chorion|DNase|None', 'CLL|DNase|None', 'Fibrobl|DNase|None']\n"
     ]
    }
   ],
   "source": [
    "# This file comes from the resources folder of the DeepSEA standalone package\n",
    "# that can be found here: http://deepsea.princeton.edu/media/code/deepsea.v0.94c.tar.gz\n",
    "with open ('predictor.names') as feature_file:\n",
    "    feature_names = [name.strip() for name in feature_file]\n",
    "\n",
    "print(len(feature_names))\n",
    "print(feature_names[:5])"
   ]
  },
  {
   "cell_type": "markdown",
   "metadata": {},
   "source": [
    "## Making predictions with the data"
   ]
  },
  {
   "cell_type": "code",
   "execution_count": 10,
   "metadata": {
    "id": "LoAc7WFAWdti"
   },
   "outputs": [
    {
     "name": "stderr",
     "output_type": "stream",
     "text": [
      "1it [00:00,  5.29it/s]\n"
     ]
    }
   ],
   "source": [
    "pred = model.pipeline.predict(dl_kwargs, batch_size=10)"
   ]
  },
  {
   "cell_type": "code",
   "execution_count": 11,
   "metadata": {
    "id": "G7_pZ9hBZVlW"
   },
   "outputs": [
    {
     "data": {
      "text/plain": [
       "array([[0.08160985, 0.06867626, 0.10076762, ..., 0.09493407, 0.02133884,\n",
       "        0.01201438],\n",
       "       [0.06698142, 0.01062412, 0.02694611, ..., 0.15490845, 0.04822356,\n",
       "        0.00770111],\n",
       "       [0.04445538, 0.00539725, 0.01840791, ..., 0.14994638, 0.3529725 ,\n",
       "        0.02272797],\n",
       "       ...,\n",
       "       [0.00081359, 0.00404314, 0.00176917, ..., 0.02167308, 0.11304276,\n",
       "        0.02273136],\n",
       "       [0.00079004, 0.00249485, 0.00252153, ..., 0.05105   , 0.04735951,\n",
       "        0.01576868],\n",
       "       [0.00076793, 0.00237438, 0.00250099, ..., 0.05096852, 0.04723714,\n",
       "        0.01515259]], dtype=float32)"
      ]
     },
     "execution_count": 11,
     "metadata": {},
     "output_type": "execute_result"
    }
   ],
   "source": [
    "pred"
   ]
  },
  {
   "cell_type": "code",
   "execution_count": 12,
   "metadata": {
    "id": "TSS-0c36ZYQu"
   },
   "outputs": [
    {
     "name": "stdout",
     "output_type": "stream",
     "text": [
      "(10, 919)\n"
     ]
    }
   ],
   "source": [
    "print(pred.shape)"
   ]
  },
  {
   "cell_type": "code",
   "execution_count": 13,
   "metadata": {},
   "outputs": [
    {
     "name": "stdout",
     "output_type": "stream",
     "text": [
      "torch.Size([919])\n"
     ]
    }
   ],
   "source": [
    "# Get the first prediction from the batch\n",
    "single_pred = torch.Tensor(pred[0,:])\n",
    "print(single_pred.shape)"
   ]
  },
  {
   "cell_type": "code",
   "execution_count": 14,
   "metadata": {},
   "outputs": [
    {
     "name": "stdout",
     "output_type": "stream",
     "text": [
      "Feature NHEK|H3K4me1|None has a probability of 0.6889464259147644\n",
      "Feature NH-A|H3K4me1|None has a probability of 0.6628297567367554\n",
      "Feature Osteoblasts|H3K4me1|None has a probability of 0.6460651159286499\n",
      "Feature NH-A|H3K4me2|None has a probability of 0.541836142539978\n",
      "Feature NHEK|H3K4me2|None has a probability of 0.49794310331344604\n"
     ]
    }
   ],
   "source": [
    "values, indices = torch.topk(single_pred, 5)\n",
    "\n",
    "for value, index in zip(values, indices):\n",
    "    feature = feature_names[index]\n",
    "    print('Feature {} has a probability of {}'.format(feature, value))"
   ]
  },
  {
   "cell_type": "markdown",
   "metadata": {},
   "source": [
    "### Sequence 1 Info\n",
    "H3K4 methylation indicates active transcription\n",
    "\n",
    "NHEK = Normal epithelial keratinocytes  \n",
    "NH-A = Astrocytes"
   ]
  },
  {
   "cell_type": "code",
   "execution_count": 15,
   "metadata": {},
   "outputs": [
    {
     "name": "stdout",
     "output_type": "stream",
     "text": [
      "torch.Size([919])\n"
     ]
    }
   ],
   "source": [
    "# Get a single prediction from the batch\n",
    "single_pred = torch.Tensor(pred[5,:])\n",
    "print(single_pred.shape)"
   ]
  },
  {
   "cell_type": "code",
   "execution_count": 16,
   "metadata": {},
   "outputs": [
    {
     "name": "stdout",
     "output_type": "stream",
     "text": [
      "Feature U2OS|SETDB1|None has a probability of 0.36347267031669617\n",
      "Feature Monocytes-CD14+RO01746|H3K9me3|None has a probability of 0.19080045819282532\n",
      "Feature K562|KAP1|None has a probability of 0.14699679613113403\n",
      "Feature H1-hESC|H3K9me3|None has a probability of 0.12245297431945801\n",
      "Feature HEK293|KAP1|None has a probability of 0.105678990483284\n"
     ]
    }
   ],
   "source": [
    "values, indices = torch.topk(single_pred, 5)\n",
    "\n",
    "for value, index in zip(values, indices):\n",
    "    feature = feature_names[index]\n",
    "    print('Feature {} has a probability of {}'.format(feature, value))"
   ]
  },
  {
   "cell_type": "markdown",
   "metadata": {},
   "source": [
    "### Sequence 2 info\n",
    "SETDB1 is an H3K9 methyltransferase\n",
    "\n",
    "H3K9 methylation indicates transcriptional repression  \n",
    "KAP1 is a ubiquitous protein [likely involved in chromatin organization](https://www.ncbi.nlm.nih.gov/pmc/articles/PMC3143589/)\n",
    "\n",
    "Cell types are largely cell lines/embronic"
   ]
  }
 ],
 "metadata": {
  "colab": {
   "name": "DeepSEA_Demo",
   "provenance": [],
   "toc_visible": true
  },
  "kernelspec": {
   "display_name": "workshop",
   "language": "python",
   "name": "workshop"
  },
  "language_info": {
   "codemirror_mode": {
    "name": "ipython",
    "version": 3
   },
   "file_extension": ".py",
   "mimetype": "text/x-python",
   "name": "python",
   "nbconvert_exporter": "python",
   "pygments_lexer": "ipython3",
   "version": "3.8.6"
  }
 },
 "nbformat": 4,
 "nbformat_minor": 1
}
